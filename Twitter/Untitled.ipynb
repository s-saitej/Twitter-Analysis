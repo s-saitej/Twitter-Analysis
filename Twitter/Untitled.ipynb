{
 "cells": [
  {
   "cell_type": "code",
   "execution_count": 1,
   "metadata": {},
   "outputs": [],
   "source": [
    "import pandas as pd"
   ]
  },
  {
   "cell_type": "code",
   "execution_count": 2,
   "metadata": {},
   "outputs": [],
   "source": [
    "import matplotlib.pyplot as plt"
   ]
  },
  {
   "cell_type": "code",
   "execution_count": 5,
   "metadata": {},
   "outputs": [],
   "source": [
    "data = pd.read_csv('train.csv', encoding = \"ISO-8859-1\") # Here ISO_8859-1 mean utf-8 encoding technique"
   ]
  },
  {
   "cell_type": "code",
   "execution_count": 6,
   "metadata": {},
   "outputs": [
    {
     "name": "stdout",
     "output_type": "stream",
     "text": [
      "       ItemID  Sentiment                                      SentimentText\n",
      "0           1          0                       is so sad for my APL frie...\n",
      "1           2          0                     I missed the New Moon trail...\n",
      "2           3          1                            omg its already 7:30 :O\n",
      "3           4          0            .. Omgaga. Im sooo  im gunna CRy. I'...\n",
      "4           5          0           i think mi bf is cheating on me!!!   ...\n",
      "5           6          0                  or i just worry too much?        \n",
      "6           7          1                 Juuuuuuuuuuuuuuuuussssst Chillin!!\n",
      "7           8          0         Sunny Again        Work Tomorrow  :-|  ...\n",
      "8           9          1        handed in my uniform today . i miss you ...\n",
      "9          10          1           hmmmm.... i wonder how she my number @-)\n",
      "10         11          0                      I must think about positive..\n",
      "11         12          1        thanks to all the haters up in my face a...\n",
      "12         13          0                     this weekend has sucked so far\n",
      "13         14          0             jb isnt showing in australia any more!\n",
      "14         15          0                               ok thats it you win.\n",
      "15         16          0      &lt;-------- This is the way i feel right ...\n",
      "16         17          0      awhhe man.... I'm completely useless rt no...\n",
      "17         18          1      Feeling strangely fine. Now I'm gonna go l...\n",
      "18         19          0       HUGE roll of thunder just now...SO scary!!!!\n",
      "19         20          0      I just cut my beard off. It's only been gr...\n",
      "20         21          0                               Very sad about Iran.\n",
      "21         22          0                                      wompppp wompp\n",
      "22         23          1      You're the only one who can see this cause...\n",
      "23         24          0     &lt;---Sad level is 3. I was writing a mass...\n",
      "24         25          0     ...  Headed to Hospitol : Had to pull out o...\n",
      "25         26          0     BoRinG   ): whats wrong with him??     Plea...\n",
      "26         27          0     can't be bothered. i wish i could spend the...\n",
      "27         28          0     Feeeling like shit right now. I really want...\n",
      "28         29          1              goodbye exams, HELLO ALCOHOL TONIGHT \n",
      "29         30          0     I didn't realize it was THAT deep. Geez giv...\n",
      "...       ...        ...                                                ...\n",
      "99959   99971          0  @CT415 @UCLA_Bruin  it made me sad too!  that ...\n",
      "99960   99972          1  @CT415 I agree. I think they all have that fet...\n",
      "99961   99973          0  @ct415 I hope it's not too serious of an injur...\n",
      "99962   99974          0  @ctabita if it's any consolation, this weekend...\n",
      "99963   99975          1                        @ctayah got your back, yo! \n",
      "99964   99976          1  @ctaylor0127 I can't wait to see that movie. E...\n",
      "99965   99977          1  @ctaylor10127 @smelby I am excited and a littl...\n",
      "99966   99978          0  @ctb1221 yeah  sorry.going to a concert that n...\n",
      "99967   99979          1  @ctcash @buildingateam @diabetescure @chocolat...\n",
      "99968   99980          1  @ctdesign87 im so glad you went to china town ...\n",
      "99969   99981          0                                 @CTerry1985  Sorry\n",
      "99970   99982          0                @CTerry1985 damn it, dont have sky \n",
      "99971   99983          0  @CTerry1985 That's the thing; the new raft of ...\n",
      "99972   99984          1                                          @cthagod \n",
      "99973   99985          1                              @ctham  #FollowFriday\n",
      "99974   99986          0  @ctham #awaresg You are not wrong. But from a ...\n",
      "99975   99987          0  @ctham @mommyfizz cuz you big burly man.  haha...\n",
      "99976   99988          1  @ctham @Wilsurn Trying to get a wider range of...\n",
      "99977   99989          1    @ctham Haha I love the passion in your support \n",
      "99978   99990          1  @cthulhullahoop That sucks...I like living in ...\n",
      "99979   99991          1  @cunningstunts till i can go home been here ti...\n",
      "99980   99992          1         @cunningstunts22 afternoon jim hows you  x\n",
      "99981   99993          0  @cup_a_tea The foot is really bad. Like the wo...\n",
      "99982   99994          1  @Cup_Of_Katy Have fun doing health &amp; safet...\n",
      "99983   99995          0  @cupati It took me waaay too long to get your ...\n",
      "99984   99996          0  @Cupcake  seems like a repeating problem   hop...\n",
      "99985   99997          1  @cupcake__ arrrr we both replied to each other...\n",
      "99986   99998          0                     @CuPcAkE_2120 ya i thought so \n",
      "99987   99999          1  @Cupcake_Dollie Yes. Yes. I'm glad you had mor...\n",
      "99988  100000          1                    @cupcake_kayla haha yes you do \n",
      "\n",
      "[99989 rows x 3 columns]\n"
     ]
    }
   ],
   "source": [
    "print(data)"
   ]
  },
  {
   "cell_type": "code",
   "execution_count": 7,
   "metadata": {},
   "outputs": [],
   "source": [
    "from sklearn import preprocessing"
   ]
  },
  {
   "cell_type": "code",
   "execution_count": 8,
   "metadata": {},
   "outputs": [],
   "source": [
    "encode = preprocessing.LabelEncoder()"
   ]
  },
  {
   "cell_type": "code",
   "execution_count": 9,
   "metadata": {},
   "outputs": [
    {
     "data": {
      "text/plain": [
       "Index(['ItemID', 'Sentiment', 'SentimentText'], dtype='object')"
      ]
     },
     "execution_count": 9,
     "metadata": {},
     "output_type": "execute_result"
    }
   ],
   "source": [
    "data.columns"
   ]
  },
  {
   "cell_type": "code",
   "execution_count": 10,
   "metadata": {},
   "outputs": [],
   "source": [
    "data['SentimentText'] = encode.fit_transform(data['SentimentText'])"
   ]
  },
  {
   "cell_type": "code",
   "execution_count": 11,
   "metadata": {},
   "outputs": [
    {
     "name": "stdout",
     "output_type": "stream",
     "text": [
      "       ItemID  Sentiment  SentimentText\n",
      "0           1          0              2\n",
      "1           2          0              3\n",
      "2           3          1              6\n",
      "3           4          0              9\n",
      "4           5          0             13\n",
      "5           6          0             14\n",
      "6           7          1             20\n",
      "7           8          0             22\n",
      "8           9          1             27\n",
      "9          10          1             28\n",
      "10         11          0             25\n",
      "11         12          1             32\n",
      "12         13          0             33\n",
      "13         14          0             45\n",
      "14         15          0             47\n",
      "15         16          0             53\n",
      "16         17          0             70\n",
      "17         18          1             57\n",
      "18         19          0             58\n",
      "19         20          0             59\n",
      "20         21          0             68\n",
      "21         22          0             79\n",
      "22         23          1             69\n",
      "23         24          0             81\n",
      "24         25          0             84\n",
      "25         26          0             92\n",
      "26         27          0            138\n",
      "27         28          0             99\n",
      "28         29          1            142\n",
      "29         30          0            104\n",
      "...       ...        ...            ...\n",
      "99959   99971          0          42720\n",
      "99960   99972          1          42722\n",
      "99961   99973          0          99870\n",
      "99962   99974          0          99873\n",
      "99963   99975          1          99876\n",
      "99964   99976          1          99878\n",
      "99965   99977          1          99879\n",
      "99966   99978          0          99880\n",
      "99967   99979          1          99883\n",
      "99968   99980          1          99884\n",
      "99969   99981          0          42729\n",
      "99970   99982          0          42736\n",
      "99971   99983          0          42732\n",
      "99972   99984          1          99887\n",
      "99973   99985          1          99891\n",
      "99974   99986          0          99894\n",
      "99975   99987          0          99896\n",
      "99976   99988          1          99895\n",
      "99977   99989          1          99897\n",
      "99978   99990          1          99909\n",
      "99979   99991          1          99982\n",
      "99980   99992          1          99983\n",
      "99981   99993          0          99984\n",
      "99982   99994          1          49338\n",
      "99983   99995          0          99985\n",
      "99984   99996          0          49339\n",
      "99985   99997          1          99986\n",
      "99986   99998          0          49305\n",
      "99987   99999          1          49340\n",
      "99988  100000          1          99987\n",
      "\n",
      "[99989 rows x 3 columns]\n"
     ]
    }
   ],
   "source": [
    "print(data)"
   ]
  },
  {
   "cell_type": "code",
   "execution_count": 12,
   "metadata": {},
   "outputs": [],
   "source": [
    "x = data['SentimentText']\n",
    "y = data['Sentiment']"
   ]
  },
  {
   "cell_type": "code",
   "execution_count": 13,
   "metadata": {},
   "outputs": [
    {
     "data": {
      "text/plain": [
       "False"
      ]
     },
     "execution_count": 13,
     "metadata": {},
     "output_type": "execute_result"
    }
   ],
   "source": [
    "x.isnull().any()"
   ]
  },
  {
   "cell_type": "code",
   "execution_count": 15,
   "metadata": {},
   "outputs": [
    {
     "data": {
      "text/plain": [
       "False"
      ]
     },
     "execution_count": 15,
     "metadata": {},
     "output_type": "execute_result"
    }
   ],
   "source": [
    "y.isnull().any()"
   ]
  },
  {
   "cell_type": "code",
   "execution_count": 17,
   "metadata": {},
   "outputs": [],
   "source": [
    "from sklearn import model_selection"
   ]
  },
  {
   "cell_type": "code",
   "execution_count": 37,
   "metadata": {},
   "outputs": [],
   "source": [
    "train_data, test_data, train_target, test_target = model_selection.train_test_split(x,y, test_size = 0.15)"
   ]
  },
  {
   "cell_type": "code",
   "execution_count": 38,
   "metadata": {},
   "outputs": [],
   "source": [
    "from sklearn import svm"
   ]
  },
  {
   "cell_type": "code",
   "execution_count": 39,
   "metadata": {},
   "outputs": [],
   "source": [
    "model = svm.SVC(kernel = 'linear', C=1.0, gamma=10)"
   ]
  },
  {
   "cell_type": "code",
   "execution_count": 45,
   "metadata": {},
   "outputs": [
    {
     "data": {
      "text/plain": [
       "(84990,)"
      ]
     },
     "execution_count": 45,
     "metadata": {},
     "output_type": "execute_result"
    }
   ],
   "source": [
    "\n",
    "train_target.shape"
   ]
  },
  {
   "cell_type": "code",
   "execution_count": 58,
   "metadata": {},
   "outputs": [
    {
     "name": "stderr",
     "output_type": "stream",
     "text": [
      "D:\\Installers\\Anaconda3\\lib\\site-packages\\ipykernel_launcher.py:1: FutureWarning: reshape is deprecated and will raise in a subsequent release. Please use .values.reshape(...) instead\n",
      "  \"\"\"Entry point for launching an IPython kernel.\n",
      "D:\\Installers\\Anaconda3\\lib\\site-packages\\ipykernel_launcher.py:2: FutureWarning: reshape is deprecated and will raise in a subsequent release. Please use .values.reshape(...) instead\n",
      "  \n"
     ]
    },
    {
     "data": {
      "text/plain": [
       "array([[25193, 92953, 47898, ..., 60671,  7336, 73640]], dtype=int32)"
      ]
     },
     "execution_count": 58,
     "metadata": {},
     "output_type": "execute_result"
    }
   ],
   "source": [
    "train_data.reshape(1,-1)\n",
    "test_data.reshape(1,-1)"
   ]
  },
  {
   "cell_type": "code",
   "execution_count": 59,
   "metadata": {},
   "outputs": [
    {
     "ename": "ValueError",
     "evalue": "Expected 2D array, got 1D array instead:\narray=[85959. 10069.   456. ... 34383. 33789. 83042.].\nReshape your data either using array.reshape(-1, 1) if your data has a single feature or array.reshape(1, -1) if it contains a single sample.",
     "output_type": "error",
     "traceback": [
      "\u001b[1;31m---------------------------------------------------------------------------\u001b[0m",
      "\u001b[1;31mValueError\u001b[0m                                Traceback (most recent call last)",
      "\u001b[1;32m<ipython-input-59-86c1e2aeb329>\u001b[0m in \u001b[0;36m<module>\u001b[1;34m()\u001b[0m\n\u001b[1;32m----> 1\u001b[1;33m \u001b[0mmodel\u001b[0m\u001b[1;33m.\u001b[0m\u001b[0mfit\u001b[0m\u001b[1;33m(\u001b[0m\u001b[0mtrain_data\u001b[0m\u001b[1;33m,\u001b[0m \u001b[0mtrain_target\u001b[0m\u001b[1;33m)\u001b[0m\u001b[1;33m\u001b[0m\u001b[0m\n\u001b[0m",
      "\u001b[1;32mD:\\Installers\\Anaconda3\\lib\\site-packages\\sklearn\\svm\\base.py\u001b[0m in \u001b[0;36mfit\u001b[1;34m(self, X, y, sample_weight)\u001b[0m\n\u001b[0;32m    147\u001b[0m         \u001b[0mself\u001b[0m\u001b[1;33m.\u001b[0m\u001b[0m_sparse\u001b[0m \u001b[1;33m=\u001b[0m \u001b[0msparse\u001b[0m \u001b[1;32mand\u001b[0m \u001b[1;32mnot\u001b[0m \u001b[0mcallable\u001b[0m\u001b[1;33m(\u001b[0m\u001b[0mself\u001b[0m\u001b[1;33m.\u001b[0m\u001b[0mkernel\u001b[0m\u001b[1;33m)\u001b[0m\u001b[1;33m\u001b[0m\u001b[0m\n\u001b[0;32m    148\u001b[0m \u001b[1;33m\u001b[0m\u001b[0m\n\u001b[1;32m--> 149\u001b[1;33m         \u001b[0mX\u001b[0m\u001b[1;33m,\u001b[0m \u001b[0my\u001b[0m \u001b[1;33m=\u001b[0m \u001b[0mcheck_X_y\u001b[0m\u001b[1;33m(\u001b[0m\u001b[0mX\u001b[0m\u001b[1;33m,\u001b[0m \u001b[0my\u001b[0m\u001b[1;33m,\u001b[0m \u001b[0mdtype\u001b[0m\u001b[1;33m=\u001b[0m\u001b[0mnp\u001b[0m\u001b[1;33m.\u001b[0m\u001b[0mfloat64\u001b[0m\u001b[1;33m,\u001b[0m \u001b[0morder\u001b[0m\u001b[1;33m=\u001b[0m\u001b[1;34m'C'\u001b[0m\u001b[1;33m,\u001b[0m \u001b[0maccept_sparse\u001b[0m\u001b[1;33m=\u001b[0m\u001b[1;34m'csr'\u001b[0m\u001b[1;33m)\u001b[0m\u001b[1;33m\u001b[0m\u001b[0m\n\u001b[0m\u001b[0;32m    150\u001b[0m         \u001b[0my\u001b[0m \u001b[1;33m=\u001b[0m \u001b[0mself\u001b[0m\u001b[1;33m.\u001b[0m\u001b[0m_validate_targets\u001b[0m\u001b[1;33m(\u001b[0m\u001b[0my\u001b[0m\u001b[1;33m)\u001b[0m\u001b[1;33m\u001b[0m\u001b[0m\n\u001b[0;32m    151\u001b[0m \u001b[1;33m\u001b[0m\u001b[0m\n",
      "\u001b[1;32mD:\\Installers\\Anaconda3\\lib\\site-packages\\sklearn\\utils\\validation.py\u001b[0m in \u001b[0;36mcheck_X_y\u001b[1;34m(X, y, accept_sparse, dtype, order, copy, force_all_finite, ensure_2d, allow_nd, multi_output, ensure_min_samples, ensure_min_features, y_numeric, warn_on_dtype, estimator)\u001b[0m\n\u001b[0;32m    571\u001b[0m     X = check_array(X, accept_sparse, dtype, order, copy, force_all_finite,\n\u001b[0;32m    572\u001b[0m                     \u001b[0mensure_2d\u001b[0m\u001b[1;33m,\u001b[0m \u001b[0mallow_nd\u001b[0m\u001b[1;33m,\u001b[0m \u001b[0mensure_min_samples\u001b[0m\u001b[1;33m,\u001b[0m\u001b[1;33m\u001b[0m\u001b[0m\n\u001b[1;32m--> 573\u001b[1;33m                     ensure_min_features, warn_on_dtype, estimator)\n\u001b[0m\u001b[0;32m    574\u001b[0m     \u001b[1;32mif\u001b[0m \u001b[0mmulti_output\u001b[0m\u001b[1;33m:\u001b[0m\u001b[1;33m\u001b[0m\u001b[0m\n\u001b[0;32m    575\u001b[0m         y = check_array(y, 'csr', force_all_finite=True, ensure_2d=False,\n",
      "\u001b[1;32mD:\\Installers\\Anaconda3\\lib\\site-packages\\sklearn\\utils\\validation.py\u001b[0m in \u001b[0;36mcheck_array\u001b[1;34m(array, accept_sparse, dtype, order, copy, force_all_finite, ensure_2d, allow_nd, ensure_min_samples, ensure_min_features, warn_on_dtype, estimator)\u001b[0m\n\u001b[0;32m    439\u001b[0m                     \u001b[1;34m\"Reshape your data either using array.reshape(-1, 1) if \"\u001b[0m\u001b[1;33m\u001b[0m\u001b[0m\n\u001b[0;32m    440\u001b[0m                     \u001b[1;34m\"your data has a single feature or array.reshape(1, -1) \"\u001b[0m\u001b[1;33m\u001b[0m\u001b[0m\n\u001b[1;32m--> 441\u001b[1;33m                     \"if it contains a single sample.\".format(array))\n\u001b[0m\u001b[0;32m    442\u001b[0m             \u001b[0marray\u001b[0m \u001b[1;33m=\u001b[0m \u001b[0mnp\u001b[0m\u001b[1;33m.\u001b[0m\u001b[0matleast_2d\u001b[0m\u001b[1;33m(\u001b[0m\u001b[0marray\u001b[0m\u001b[1;33m)\u001b[0m\u001b[1;33m\u001b[0m\u001b[0m\n\u001b[0;32m    443\u001b[0m             \u001b[1;31m# To ensure that array flags are maintained\u001b[0m\u001b[1;33m\u001b[0m\u001b[1;33m\u001b[0m\u001b[0m\n",
      "\u001b[1;31mValueError\u001b[0m: Expected 2D array, got 1D array instead:\narray=[85959. 10069.   456. ... 34383. 33789. 83042.].\nReshape your data either using array.reshape(-1, 1) if your data has a single feature or array.reshape(1, -1) if it contains a single sample."
     ]
    }
   ],
   "source": [
    "model.fit(train_data, train_target)"
   ]
  },
  {
   "cell_type": "code",
   "execution_count": null,
   "metadata": {},
   "outputs": [],
   "source": []
  },
  {
   "cell_type": "code",
   "execution_count": null,
   "metadata": {},
   "outputs": [],
   "source": []
  }
 ],
 "metadata": {
  "kernelspec": {
   "display_name": "Python 3",
   "language": "python",
   "name": "python3"
  },
  "language_info": {
   "codemirror_mode": {
    "name": "ipython",
    "version": 3
   },
   "file_extension": ".py",
   "mimetype": "text/x-python",
   "name": "python",
   "nbconvert_exporter": "python",
   "pygments_lexer": "ipython3",
   "version": "3.6.4"
  }
 },
 "nbformat": 4,
 "nbformat_minor": 2
}
